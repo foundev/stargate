{
    "cells": [
        {
            "cell_type": "code",
            "execution_count": null,
            "metadata": {
                "init_cell": true,
                "jupyter": {
                    "outputs_hidden": true,
                    "source_hidden": true
                },
                "scrolled": false
            },
            "outputs": [],
            "source": [
                "import requests\n",
                "import json\n",
                "\n",
                "def parseResponse(resp):\n",
                "    if not resp.ok:\n",
                "        print(\"request failed:\" + resp.text) \n",
                "    return resp.json()\n",
                "\n",
                "def parseMutationResponse(resp):\n",
                "    return list(map(lambda x: x[\"entityId\"], parseResponse(resp))) \n",
                "\n"
            ]
        },
        {
            "cell_type": "code",
            "execution_count": null,
            "metadata": {
                "init_cell": true,
                "jupyter": {
                    "outputs_hidden": true,
                    "source_hidden": true
                },
                "scrolled": false
            },
            "outputs": [],
            "source": [
                "def createRandomProductRequest():\n    return parseResponse(requests.get(\"http://localhost:8080/v1/api/test/apigen/Product/create\"))\n\ndef createProduct(request):\n    return parseMutationResponse(requests.post(\"http://localhost:8080/v1/api/test/query/entity/Product\", json=request))\n\ndef createRandomProduct():\n    return createProduct(createRandomProductRequest())\n\n\ndef getRandomProductRequest():\n    return parseResponse(requests.get(\"http://localhost:8080/v1/api/test/apigen/Product/get\"))\n\ndef getProduct(request):\n    return parseResponse(requests.get(\"http://localhost:8080/v1/api/test/query/entity/Product\", json=request))\n\ndef getRandomProduct():\n    return getProduct(getRandomProductRequest())\n\n\ndef updateRandomProductRequest():\n    return parseResponse(requests.get(\"http://localhost:8080/v1/api/test/apigen/Product/update\"))\n\ndef updateProduct(request):\n    return parseMutationResponse(requests.put(\"http://localhost:8080/v1/api/test/query/entity/Product\", json=request))\n\ndef updateRandomProduct():\n    return updateProduct(updateRandomProductRequest())\n\n\ndef deleteRandomProductRequest():\n    return parseResponse(requests.get(\"http://localhost:8080/v1/api/test/apigen/Product/delete\"))\n\ndef deleteProduct(request):\n    return parseMutationResponse(requests.delete(\"http://localhost:8080/v1/api/test/query/entity/Product\", json=request))\n\ndef deleteRandomProduct():\n    return deleteProduct(deleteRandomProductRequest())\n\n\ndef createRandomCustomerRequest():\n    return parseResponse(requests.get(\"http://localhost:8080/v1/api/test/apigen/Customer/create\"))\n\ndef createCustomer(request):\n    return parseMutationResponse(requests.post(\"http://localhost:8080/v1/api/test/query/entity/Customer\", json=request))\n\ndef createRandomCustomer():\n    return createCustomer(createRandomCustomerRequest())\n\n\ndef getRandomCustomerRequest():\n    return parseResponse(requests.get(\"http://localhost:8080/v1/api/test/apigen/Customer/get\"))\n\ndef getCustomer(request):\n    return parseResponse(requests.get(\"http://localhost:8080/v1/api/test/query/entity/Customer\", json=request))\n\ndef getRandomCustomer():\n    return getCustomer(getRandomCustomerRequest())\n\n\ndef updateRandomCustomerRequest():\n    return parseResponse(requests.get(\"http://localhost:8080/v1/api/test/apigen/Customer/update\"))\n\ndef updateCustomer(request):\n    return parseMutationResponse(requests.put(\"http://localhost:8080/v1/api/test/query/entity/Customer\", json=request))\n\ndef updateRandomCustomer():\n    return updateCustomer(updateRandomCustomerRequest())\n\n\ndef deleteRandomCustomerRequest():\n    return parseResponse(requests.get(\"http://localhost:8080/v1/api/test/apigen/Customer/delete\"))\n\ndef deleteCustomer(request):\n    return parseMutationResponse(requests.delete(\"http://localhost:8080/v1/api/test/query/entity/Customer\", json=request))\n\ndef deleteRandomCustomer():\n    return deleteCustomer(deleteRandomCustomerRequest())\n\n\ndef createRandomOrderRequest():\n    return parseResponse(requests.get(\"http://localhost:8080/v1/api/test/apigen/Order/create\"))\n\ndef createOrder(request):\n    return parseMutationResponse(requests.post(\"http://localhost:8080/v1/api/test/query/entity/Order\", json=request))\n\ndef createRandomOrder():\n    return createOrder(createRandomOrderRequest())\n\n\ndef getRandomOrderRequest():\n    return parseResponse(requests.get(\"http://localhost:8080/v1/api/test/apigen/Order/get\"))\n\ndef getOrder(request):\n    return parseResponse(requests.get(\"http://localhost:8080/v1/api/test/query/entity/Order\", json=request))\n\ndef getRandomOrder():\n    return getOrder(getRandomOrderRequest())\n\n\ndef updateRandomOrderRequest():\n    return parseResponse(requests.get(\"http://localhost:8080/v1/api/test/apigen/Order/update\"))\n\ndef updateOrder(request):\n    return parseMutationResponse(requests.put(\"http://localhost:8080/v1/api/test/query/entity/Order\", json=request))\n\ndef updateRandomOrder():\n    return updateOrder(updateRandomOrderRequest())\n\n\ndef deleteRandomOrderRequest():\n    return parseResponse(requests.get(\"http://localhost:8080/v1/api/test/apigen/Order/delete\"))\n\ndef deleteOrder(request):\n    return parseMutationResponse(requests.delete(\"http://localhost:8080/v1/api/test/query/entity/Order\", json=request))\n\ndef deleteRandomOrder():\n    return deleteOrder(deleteRandomOrderRequest())\n\n\ndef createRandomAddressRequest():\n    return parseResponse(requests.get(\"http://localhost:8080/v1/api/test/apigen/Address/create\"))\n\ndef createAddress(request):\n    return parseMutationResponse(requests.post(\"http://localhost:8080/v1/api/test/query/entity/Address\", json=request))\n\ndef createRandomAddress():\n    return createAddress(createRandomAddressRequest())\n\n\ndef getRandomAddressRequest():\n    return parseResponse(requests.get(\"http://localhost:8080/v1/api/test/apigen/Address/get\"))\n\ndef getAddress(request):\n    return parseResponse(requests.get(\"http://localhost:8080/v1/api/test/query/entity/Address\", json=request))\n\ndef getRandomAddress():\n    return getAddress(getRandomAddressRequest())\n\n\ndef updateRandomAddressRequest():\n    return parseResponse(requests.get(\"http://localhost:8080/v1/api/test/apigen/Address/update\"))\n\ndef updateAddress(request):\n    return parseMutationResponse(requests.put(\"http://localhost:8080/v1/api/test/query/entity/Address\", json=request))\n\ndef updateRandomAddress():\n    return updateAddress(updateRandomAddressRequest())\n\n\ndef deleteRandomAddressRequest():\n    return parseResponse(requests.get(\"http://localhost:8080/v1/api/test/apigen/Address/delete\"))\n\ndef deleteAddress(request):\n    return parseMutationResponse(requests.delete(\"http://localhost:8080/v1/api/test/query/entity/Address\", json=request))\n\ndef deleteRandomAddress():\n    return deleteAddress(deleteRandomAddressRequest())\n\n"
            ]
        },
        {
            "cell_type": "markdown",
            "metadata": {},
            "source": [
                "\n## Instructions\nFirst click <img src=\"https://raw.githubusercontent.com/jupyterlab/jupyterlab/master/packages/ui-components/style/icons/toolbar/fast-forward.svg?sanitize=true\"> (and then \"Restart\" if prompted) to run the entire notebook demo.\nThen try changing a cell and re-running it with <img src=\"https://raw.githubusercontent.com/jupyterlab/jupyterlab/master/packages/ui-components/style/icons/toolbar/run.svg?sanitize=true\">\nOr add new cells with <img src=\"https://raw.githubusercontent.com/jupyterlab/jupyterlab/master/packages/ui-components/style/icons/toolbar/add.svg?sanitize=true\">\n\nIf you don't want your changes to the notebook to be lost next time you update your schema, make a copy with File > Save Notebook As\n"
            ]
        },
        {
            "cell_type": "markdown",
            "metadata": {},
            "source": [
                "### Create some instances of Customer and Address"
            ]
        },
        {
            "cell_type": "code",
            "execution_count": null,
            "metadata": {
                "scrolled": false
            },
            "outputs": [],
            "source": [
                "Customer_response = requests.post(\"http://localhost:8080/v1/api/test/query/entity/Customer\", json=[ {\n  \"email\" : \"lwHdyIvU0x\",\n  \"lastName\" : \"LtMDwbFMtH\",\n  \"firstName\" : \"0DTSD6hayK\",\n  \"id\" : \"dbb66e3e-22fd-4400-9120-6b0c1577c80d\"\n}, {\n  \"email\" : \"PjqZi4IkrN\",\n  \"lastName\" : \"9OsLq6HBIi\",\n  \"firstName\" : \"NRoGrHyWRe\",\n  \"id\" : \"4214a749-7ba1-49d6-af8a-fd6cb3638f3e\"\n}, {\n  \"email\" : \"2sJotZLIlM\",\n  \"lastName\" : \"SZbpO1RsZr\",\n  \"firstName\" : \"bHEE4b5xAV\",\n  \"id\" : \"f68dd09f-7c86-4d0e-a23a-ffa3954ba1f5\"\n} ])\nCustomer_ids = parseMutationResponse(Customer_response)\nprint(\"Customer ids:\" + str(Customer_ids))\n\nAddress_response = requests.post(\"http://localhost:8080/v1/api/test/query/entity/Address\", json=[ {\n  \"zipCode\" : \"IfSEEJlVv5\",\n  \"street\" : \"20fgwOhqk2\"\n}, {\n  \"zipCode\" : \"IfSEEJlVv5\",\n  \"street\" : \"7NvNS9Uj6D\"\n}, {\n  \"zipCode\" : \"IfSEEJlVv5\",\n  \"street\" : \"2s81E1PyJk\"\n} ])\nAddress_ids = parseMutationResponse(Address_response)\nprint(\"Address ids:\" + str(Address_ids))\n"
            ]
        },
        {
            "cell_type": "markdown",
            "metadata": {},
            "source": [
                "### Link some Customer entities to some Address entities"
            ]
        },
        {
            "cell_type": "code",
            "execution_count": null,
            "metadata": {
                "scrolled": false
            },
            "outputs": [],
            "source": [
                "for i in range(3):\n  requests.put(\"http://localhost:8080/v1/api/test/query/entity/Customer\", json={\n    \"-match\": [\"entityId\", \"=\", Customer_ids[i]],\n    \"addresses\": { \"-link\": { \"-match\": [\"entityId\", \"=\", Address_ids[i]] } }\n  })\n"
            ]
        },
        {
            "cell_type": "markdown",
            "metadata": {},
            "source": [
                "### Get the Customer entities and their related Address entities"
            ]
        },
        {
            "cell_type": "code",
            "execution_count": null,
            "metadata": {
                "scrolled": false
            },
            "outputs": [],
            "source": [
                "response = requests.get(\"http://localhost:8080/v1/api/test/query/entity/Customer\", json={ \"-match\": [\"entityId\", \"IN\", Customer_ids], \"-limit\": 3, \"addresses\": {} })\nprint(json.dumps(parseResponse(response), indent=2))\n"
            ]
        },
        {
            "cell_type": "markdown",
            "metadata": {},
            "source": [
                "### Linking first Customer to all Address entities by a scalar\nNotice how all the generated Address have the same value for field zipCode"
            ]
        },
        {
            "cell_type": "code",
            "execution_count": null,
            "metadata": {
                "scrolled": false
            },
            "outputs": [],
            "source": [
                "response = requests.put(\"http://localhost:8080/v1/api/test/query/entity/Customer\", json={\n  \"-match\": [\"entityId\", \"=\", Customer_ids[0]],\n  \"addresses\": { \"-replace\": { \"-match\": [\"zipCode\", \"=\", \"IfSEEJlVv5\"] } }\n})\nprint(json.dumps(parseResponse(response), indent=2))\n"
            ]
        },
        {
            "cell_type": "markdown",
            "metadata": {},
            "source": [
                "### Query all Customer entities, but limit page size to 1"
            ]
        },
        {
            "cell_type": "code",
            "execution_count": null,
            "metadata": {
                "scrolled": false
            },
            "outputs": [],
            "source": [
                "page=0\nresponse = parseResponse(requests.get(\"http://localhost:8080/v1/api/test/query/entity/Customer\", json={ \"-match\": [\"entityId\", \"IN\", Customer_ids], \"-limit\": 1, \"-continue\": True, \"addresses\": {} }))\nprint(\"Page: \" + str(page))\nprint(json.dumps(response, indent=2))\nwhile len(response) == 2:\n  page = page + 1\n  response = parseResponse(requests.get(\"http://localhost:8080/v1/api/test/query/continue/\" + response[1][\"-continue\"]))\n  print(\"Page: \" + str(page))\n  print(json.dumps(response, indent=2))\n"
            ]
        }
    ],
    "metadata": {
        "kernelspec": {
            "display_name": "Python 3",
            "language": "python",
            "name": "python3"
        },
        "language_info": {
            "codemirror_mode": {
                "name": "ipython",
                "version": 3
            },
            "file_extension": ".py",
            "mimetype": "text/x-python",
            "name": "python",
            "nbconvert_exporter": "python",
            "pygments_lexer": "ipython3",
            "version": "3.4.3"
        }
    },
    "nbformat": 4,
    "nbformat_minor": 4
}
